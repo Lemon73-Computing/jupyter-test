{
 "cells": [
  {
   "cell_type": "markdown",
   "metadata": {},
   "source": [
    "## Finding greatest common divisor"
   ]
  },
  {
   "cell_type": "markdown",
   "metadata": {},
   "source": [
    "Euclidean Algorithm"
   ]
  },
  {
   "cell_type": "code",
   "execution_count": 4,
   "metadata": {
    "dotnet_interactive": {
     "language": "csharp"
    },
    "polyglot_notebook": {
     "kernelName": "csharp"
    },
    "vscode": {
     "languageId": "polyglot-notebook"
    }
   },
   "outputs": [
    {
     "name": "stdout",
     "output_type": "stream",
     "text": [
      "Greatest common divisor: 21\n"
     ]
    }
   ],
   "source": [
    "using Microsoft.DotNet.Interactive;\n",
    "\n",
    "int num1 = int.Parse(Kernel.GetInputAsync((\"Please write number1.\")).Result);\n",
    "int num2 = int.Parse(Kernel.GetInputAsync((\"Please write number2.\")).Result);\n",
    "int num_temp = 0;\n",
    "\n",
    "while (num1 != 0)\n",
    "{\n",
    "    if (num1 < num2)\n",
    "    {\n",
    "        // \"num1\" is always max number.\n",
    "        num_temp = num2;\n",
    "        num2 = num1;\n",
    "        num1 = num_temp;\n",
    "    }\n",
    "    num1 = num1 % num2;\n",
    "}\n",
    "\n",
    "Console.WriteLine($\"Greatest common divisor: \" + num2);\n"
   ]
  }
 ],
 "metadata": {
  "kernelspec": {
   "display_name": ".NET (C#)",
   "language": "C#",
   "name": ".net-csharp"
  },
  "language_info": {
   "name": "csharp"
  },
  "polyglot_notebook": {
   "kernelInfo": {
    "defaultKernelName": "csharp",
    "items": [
     {
      "aliases": [],
      "name": "csharp"
     }
    ]
   }
  }
 },
 "nbformat": 4,
 "nbformat_minor": 2
}
