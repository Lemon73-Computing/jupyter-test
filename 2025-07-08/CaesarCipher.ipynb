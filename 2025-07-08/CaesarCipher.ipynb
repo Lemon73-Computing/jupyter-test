{
 "cells": [
  {
   "cell_type": "markdown",
   "id": "ceec6db8",
   "metadata": {},
   "source": [
    "# Cryptography\n",
    "\n",
    "Caesar Cipher"
   ]
  },
  {
   "cell_type": "code",
   "execution_count": 17,
   "id": "059091db",
   "metadata": {},
   "outputs": [
    {
     "name": "stdout",
     "output_type": "stream",
     "text": [
      "Input: Hello, world! | Shift Value: 3\n",
      "Output: Khoor/#zruog$\n"
     ]
    }
   ],
   "source": [
    "using System.Text;\n",
    "using Microsoft.DotNet.Interactive;\n",
    "using Microsoft.DotNet.Interactive.Commands;\n",
    "\n",
    "// string input = \"Hello, World!\";\n",
    "string input = Kernel.GetInputAsync(\"Please enter the string which you want to convert (only type alphabets): \").Result;\n",
    "byte[] utf8Bytes = Encoding.UTF8.GetBytes(input);\n",
    "int shiftValue = int.Parse(Kernel.GetInputAsync(\"Please enter the shift value (an integer): \").Result);\n",
    "Console.WriteLine($\"Input: {input} | Shift Value: {shiftValue}\");\n",
    "\n",
    "for (int i = 0; i < utf8Bytes.Length; i++) {\n",
    "    utf8Bytes[i] = (byte)(utf8Bytes[i] + shiftValue);\n",
    "}\n",
    "\n",
    "string output = Encoding.UTF8.GetString(utf8Bytes);\n",
    "Console.WriteLine($\"Output: {output}\");\n"
   ]
  },
  {
   "cell_type": "code",
   "execution_count": 21,
   "id": "74cbc0ad",
   "metadata": {},
   "outputs": [
    {
     "name": "stdout",
     "output_type": "stream",
     "text": [
      "-10: A^eeh%\u0019phke]\u001a\n",
      "-9: B_ffi&\u001aqilf^\u001b\n",
      "-8: C`ggj'\u001brjmg_\u001c\n",
      "-7: Dahhk(\u001csknh`\u001d\n",
      "-6: Ebiil)\u001dtloia\u001e\n",
      "-5: Fcjjm*\u001eumpjb\u001f\n",
      "-4: Gdkkn+\u001fvnqkc \n",
      "-3: Hello, world! <Original>\n",
      "-2: Ifmmp-!xpsme\"\n",
      "-1: Jgnnq.\"yqtnf#\n",
      "0: Khoor/#zruog$\n",
      "1: Lipps0${svph%\n",
      "2: Mjqqt1%|twqi&\n",
      "3: Nkrru2&}uxrj'\n",
      "4: Olssv3'~vysk(\n",
      "5: Pmttw4(wztl)\n",
      "6: Qnuux5)�x{um*\n",
      "7: Rovvy6*�y|vn+\n",
      "8: Spwwz7+�z}wo,\n",
      "9: Tqxx{8,�{~xp-\n",
      "10: Uryy|9-�|yq.\n"
     ]
    }
   ],
   "source": [
    "// Brute-force attack to find the original string\n",
    "// This will try all possible shifts from -10 to +10\n",
    "byte[] checkBytes = new byte[utf8Bytes.Length];\n",
    "\n",
    "for (int checkValue = -10; checkValue <= 10; checkValue++) {\n",
    "    for (int i = 0; i < utf8Bytes.Length; i++) {\n",
    "        checkBytes[i] = (byte)(utf8Bytes[i] + checkValue);\n",
    "    }\n",
    "    string output = Encoding.UTF8.GetString(checkBytes);\n",
    "\n",
    "    if (output == input)\n",
    "        Console.WriteLine($\"{checkValue}: {output} <Original>\");\n",
    "    else\n",
    "        Console.WriteLine($\"{checkValue}: {output}\");\n",
    "}\n"
   ]
  }
 ],
 "metadata": {
  "kernelspec": {
   "display_name": ".NET (C#)",
   "language": "C#",
   "name": ".net-csharp"
  },
  "language_info": {
   "name": "polyglot-notebook"
  },
  "polyglot_notebook": {
   "kernelInfo": {
    "defaultKernelName": "csharp",
    "items": [
     {
      "aliases": [],
      "name": "csharp"
     }
    ]
   }
  }
 },
 "nbformat": 4,
 "nbformat_minor": 5
}
