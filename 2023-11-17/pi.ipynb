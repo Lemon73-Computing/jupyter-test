{
 "cells": [
  {
   "cell_type": "markdown",
   "metadata": {},
   "source": [
    "## Finding pi\n",
    "Monte Carlo method"
   ]
  },
  {
   "cell_type": "code",
   "execution_count": 156,
   "metadata": {
    "dotnet_interactive": {
     "language": "csharp"
    },
    "polyglot_notebook": {
     "kernelName": "csharp"
    },
    "vscode": {
     "languageId": "polyglot-notebook"
    }
   },
   "outputs": [
    {
     "name": "stdout",
     "output_type": "stream",
     "text": [
      "3.149676\r\n"
     ]
    }
   ],
   "source": [
    "Random rand = new();\n",
    "int x = 0, y = 0;\n",
    "\n",
    "// How many times do you try?\n",
    "int times = 1000000;\n",
    "// How long harf range of circle?\n",
    "int r = 100;\n",
    "\n",
    "int clear = 0;\n",
    "for (int i = 0;i < times;i++){\n",
    "    x = rand.Next(0, r + 1);\n",
    "    y = rand.Next(0, r + 1);\n",
    "    int root = (int)Math.Round(Math.Sqrt(Math.Pow(x, 2) + Math.Pow(y, 2)));\n",
    "    if (r >= root)\n",
    "        clear++;\n",
    "    // Console.WriteLine(x.ToString() + \" \" + y.ToString() + \" \" + root.ToString() + \" \" + clear.ToString());\n",
    "}\n",
    "\n",
    "double pi = (double)clear / times * 4;\n",
    "\n",
    "Console.WriteLine(pi);\n"
   ]
  }
 ],
 "metadata": {
  "language_info": {
   "name": "csharp"
  }
 },
 "nbformat": 4,
 "nbformat_minor": 2
}
