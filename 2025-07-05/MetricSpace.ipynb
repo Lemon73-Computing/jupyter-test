{
 "cells": [
  {
   "cell_type": "markdown",
   "id": "e0a256ac",
   "metadata": {},
   "source": [
    "## Metric Space\n",
    "\n",
    "- Euclidean distance\n",
    "- Chebyshev distance\n",
    "- Manhattan distance"
   ]
  },
  {
   "cell_type": "code",
   "execution_count": 15,
   "id": "13a08d70",
   "metadata": {
    "language_info": {
     "name": "polyglot-notebook"
    },
    "polyglot_notebook": {
     "kernelName": "fsharp"
    }
   },
   "outputs": [
    {
     "name": "stdout",
     "output_type": "stream",
     "text": [
      "You entered x: -3 and y: 4\n",
      "Euclidean distance: 5.000000\n",
      "Chebyshev distance: 4\n",
      "Manhattan distance: 7\n"
     ]
    }
   ],
   "source": [
    "open Microsoft.DotNet.Interactive\n",
    "open Microsoft.DotNet.Interactive.Commands\n",
    "\n",
    "let x: int64 = Int64.Parse (Kernel.GetInputAsync(\"Please enter the 'x' value: \", \"number\").Result)\n",
    "let y: int64 = Int64.Parse (Kernel.GetInputAsync(\"Please enter the 'y' value: \", \"number\").Result)\n",
    "\n",
    "let euclidianDistance (x: int64) (y: int64) =\n",
    "    let dx = x * x\n",
    "    let dy = y * y\n",
    "    System.Math.Sqrt(float (dx + dy))\n",
    "\n",
    "let chebyshevDistance (x: int64) (y: int64) =\n",
    "    let tmp_x = if x < 0 then -x else x\n",
    "    let tmp_y = if y < 0 then -y else y\n",
    "    if (tmp_x > tmp_y) then tmp_x else tmp_y\n",
    "\n",
    "let manhattanDistance (x: int64) (y: int64) =\n",
    "    let tmp_x = if x < 0 then -x else x\n",
    "    let tmp_y = if y < 0 then -y else y\n",
    "    tmp_x + tmp_y\n",
    "\n",
    "printfn \"You entered x: %d and y: %d\" x y\n",
    "printfn \"Euclidean distance: %f\" (euclidianDistance x y)\n",
    "printfn \"Chebyshev distance: %d\" (chebyshevDistance x y)\n",
    "printfn \"Manhattan distance: %d\" (manhattanDistance x y)\n"
   ]
  }
 ],
 "metadata": {
  "kernelspec": {
   "display_name": ".NET (C#)",
   "language": "C#",
   "name": ".net-csharp"
  },
  "language_info": {
   "name": "polyglot-notebook"
  },
  "polyglot_notebook": {
   "kernelInfo": {
    "defaultKernelName": "csharp",
    "items": [
     {
      "aliases": [],
      "name": "csharp"
     }
    ]
   }
  }
 },
 "nbformat": 4,
 "nbformat_minor": 5
}
