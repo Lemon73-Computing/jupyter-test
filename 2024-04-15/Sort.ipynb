{
 "cells": [
  {
   "cell_type": "markdown",
   "metadata": {},
   "source": [
    "## Sort"
   ]
  },
  {
   "cell_type": "markdown",
   "metadata": {},
   "source": [
    "Sort"
   ]
  },
  {
   "cell_type": "code",
   "execution_count": 24,
   "metadata": {
    "dotnet_interactive": {
     "language": "csharp"
    },
    "polyglot_notebook": {
     "kernelName": "csharp"
    },
    "vscode": {
     "languageId": "polyglot-notebook"
    }
   },
   "outputs": [
    {
     "name": "stdout",
     "output_type": "stream",
     "text": [
      "First numbers: \n",
      "[309, 224, 178, 959, 134, 613, 216, 621, 31, 445, 675, 612, 401, 441, 497, 904, 924, 536, 655, 399, 108, 273, 886, 20, 738]\n",
      "After Sort: \n",
      "[20, 31, 108, 134, 178, 216, 224, 273, 309, 399, 401, 441, 445, 497, 536, 612, 613, 621, 655, 675, 738, 886, 904, 924, 959]\n"
     ]
    }
   ],
   "source": [
    "Random rand = new();\n",
    "int[] array = new int[25];\n",
    "for (int i = 0; i < array.Length; i++)\n",
    "{\n",
    "    array[i] = rand.Next(999);\n",
    "}\n",
    "\n",
    "Console.WriteLine(\"First numbers: \");\n",
    "Console.WriteLine(\"[{0}]\", string.Join(\", \", array));\n",
    "\n",
    "// Sort\n",
    "Array.Sort(array);\n",
    "\n",
    "Console.WriteLine(\"After Sort: \");\n",
    "Console.WriteLine(\"[{0}]\", string.Join(\", \", array));\n"
   ]
  }
 ],
 "metadata": {
  "language_info": {
   "name": "csharp"
  }
 },
 "nbformat": 4,
 "nbformat_minor": 2
}
