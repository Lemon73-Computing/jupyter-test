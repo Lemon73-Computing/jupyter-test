{
 "cells": [
  {
   "cell_type": "markdown",
   "metadata": {},
   "source": [
    "## Paradox"
   ]
  },
  {
   "cell_type": "markdown",
   "metadata": {},
   "source": [
    "Monty Hall problem"
   ]
  },
  {
   "cell_type": "code",
   "execution_count": 11,
   "metadata": {
    "dotnet_interactive": {
     "language": "csharp"
    },
    "polyglot_notebook": {
     "kernelName": "csharp"
    },
    "vscode": {
     "languageId": "polyglot-notebook"
    }
   },
   "outputs": [
    {
     "name": "stdout",
     "output_type": "stream",
     "text": [
      "Result: 3384/10000\n"
     ]
    }
   ],
   "source": [
    "// Adviced and no change\n",
    "const int N = 10000;\n",
    "int win;\n",
    "Random rand = new();\n",
    "\n",
    "for (int i = 0; i < N; i++)\n",
    "{\n",
    "    // first setting\n",
    "    int istrue = rand.Next(3);// answer\n",
    "    int select = rand.Next(3);// users selection\n",
    "\n",
    "    bool[] array = new bool[3];// [0, 1, 2]\n",
    "    Array.Fill(array, false);// [false, false, false]\n",
    "    array[istrue] = true;// example: [false, true, false]\n",
    "\n",
    "    if (array[select] == true)\n",
    "        win++;\n",
    "}\n",
    "\n",
    "// return\n",
    "Console.WriteLine(\"Result: \" + win + \"/\" + N);\n"
   ]
  },
  {
   "cell_type": "code",
   "execution_count": 13,
   "metadata": {
    "vscode": {
     "languageId": "polyglot-notebook"
    }
   },
   "outputs": [
    {
     "data": {
      "text/html": [
       "<div class=\"dni-plaintext\"><pre>1</pre></div><style>\r\n",
       ".dni-code-hint {\r\n",
       "    font-style: italic;\r\n",
       "    overflow: hidden;\r\n",
       "    white-space: nowrap;\r\n",
       "}\r\n",
       ".dni-treeview {\r\n",
       "    white-space: nowrap;\r\n",
       "}\r\n",
       ".dni-treeview td {\r\n",
       "    vertical-align: top;\r\n",
       "    text-align: start;\r\n",
       "}\r\n",
       "details.dni-treeview {\r\n",
       "    padding-left: 1em;\r\n",
       "}\r\n",
       "table td {\r\n",
       "    text-align: start;\r\n",
       "}\r\n",
       "table tr { \r\n",
       "    vertical-align: top; \r\n",
       "    margin: 0em 0px;\r\n",
       "}\r\n",
       "table tr td pre \r\n",
       "{ \r\n",
       "    vertical-align: top !important; \r\n",
       "    margin: 0em 0px !important;\r\n",
       "} \r\n",
       "table th {\r\n",
       "    text-align: start;\r\n",
       "}\r\n",
       "</style>"
      ]
     },
     "metadata": {},
     "output_type": "display_data"
    }
   ],
   "source": [
    "// Adviced and no change\n",
    "const int N = 10000;\n",
    "int win;\n",
    "Random rand = new();\n",
    "\n",
    "for (int i = 0; i < N; i++)\n",
    "{\n",
    "    // first setting\n",
    "    int istrue = rand.Next(3);// answer\n",
    "    int select = rand.Next(3);// users selection\n",
    "    int manager = 0;// manager selection\n",
    "\n",
    "    bool[] array = new bool[3];// [0, 1, 2]\n",
    "    Array.Fill(array, false);// [false, false, false]\n",
    "    array[istrue] = true;// example: [false, true, false]\n",
    "\n",
    "    if (reselect() == 1)\n",
    "        win++;\n",
    "\n",
    "    int reselect()\n",
    "    {\n",
    "        // reselect\n",
    "        if (select==0) {\n",
    "            // manager select false\n",
    "            if (array[1] == true) manager=2;\n",
    "            if (array[2] == true) manager=1;\n",
    "\n",
    "            if (manager == 2) {\n",
    "                if(array[1] == true) return 1;\n",
    "                else return 0;\n",
    "            }\n",
    "            if (manager == 1) {\n",
    "                if(array[2] == true) return 1;\n",
    "                else return 0;\n",
    "            }\n",
    "        }\n",
    "\n",
    "        if (select==1) {\n",
    "            if (array[0] == true) manager=2;\n",
    "            if (array[2] == true) manager=0;\n",
    "\n",
    "            if (manager == 2) {\n",
    "                if(array[0] == true) return 1;\n",
    "                else return 0;\n",
    "            }\n",
    "            if (manager == 0) {\n",
    "                if(array[2] == true) return 1;\n",
    "                else return 0;\n",
    "            }\n",
    "        }\n",
    "\n",
    "        if (select==2) {\n",
    "            if (array[0] == true) manager=1;\n",
    "            if (array[1] == true) manager=0;\n",
    "\n",
    "            if(manager == 0) {\n",
    "                if(array[1] == true) return 1;\n",
    "                else return 0;\n",
    "            }\n",
    "            if(manager == 1) {\n",
    "                if(array[0] == true) return 1;\n",
    "                else return 0;\n",
    "            }\n",
    "        }\n",
    "        return 2;\n",
    "    }\n",
    "}\n",
    "\n",
    "// return\n",
    "Console.WriteLine(\"Result: \" + win + \"/\" + N);\n"
   ]
  },
  {
   "cell_type": "code",
   "execution_count": 10,
   "metadata": {
    "vscode": {
     "languageId": "polyglot-notebook"
    }
   },
   "outputs": [],
   "source": [
    "const long N    = 100000;\n",
    "// 選びなおし true = あり, false = なし\n",
    "const bool MODE = true;\n",
    "static Random rnd = new();\n",
    "\n",
    "int fnc (bool flg) {\n",
    "    // true == 選直し有\n",
    "    // 当たりの番号\n",
    "    int atari = (int)rnd.Next(0, 3); // 0,1,2\n",
    "    int UC = (int)rnd.Next(0, 3);// ユーザ選び 0,1,2\n",
    "    int UNEI_OPEN = 0;// 運営が開けた番号\n",
    "\n",
    "    bool[] box = new bool[3];\n",
    "    Array.Fill(box, false);// 外れの箱 false\n",
    "    box[atari] = true;// 当たりの箱 true\n",
    "\n",
    "    // 選び直し無し\n",
    "    if (flg == false){\n",
    "        if (atari == UC)// correct\n",
    "            return 1;\n",
    "        else return 0;// uncorrect\n",
    "    }\n",
    "\n",
    "    // 選び直しあり\n",
    "    if (UC==0) {\n",
    "        // 運営が外れ箱開ける\n",
    "        if (box[1] == true) UNEI_OPEN=2;\n",
    "        if (box[2] == true) UNEI_OPEN=1;\n",
    "\n",
    "        if (UNEI_OPEN == 2) {\n",
    "            if(box[1] == true) return 1;\n",
    "            else return 0;\n",
    "        }\n",
    "        if (UNEI_OPEN == 1) {\n",
    "            if(box[2] == true) return 1;\n",
    "            else return 0;\n",
    "        }\n",
    "    }\n",
    "\n",
    "    if (UC==1) {\n",
    "        if (box[0] == true) UNEI_OPEN=2;\n",
    "        if (box[2] == true) UNEI_OPEN=0;\n",
    "\n",
    "        if (UNEI_OPEN == 2) {\n",
    "            if(box[0] == true) return 1;\n",
    "            else return 0;\n",
    "        }\n",
    "        if (UNEI_OPEN == 0) {\n",
    "            if(box[2] == true) return 1;\n",
    "            else return 0;\n",
    "        }\n",
    "    }\n",
    "\n",
    "    if ( UC==2) {\n",
    "        if (box[0] == true) UNEI_OPEN=1;\n",
    "        if (box[1] == true) UNEI_OPEN=0;\n",
    "\n",
    "        if(UNEI_OPEN == 0) {\n",
    "            if(box[1] == true) return 1;\n",
    "            else return 0;\n",
    "        }\n",
    "        if(UNEI_OPEN == 1) {\n",
    "            if(box[0] == true) return 1;\n",
    "            else return 0;\n",
    "        }\n",
    "    }\n",
    "    return (2);\n",
    "}\n",
    "\n",
    "/*\n",
    "void msg(string ss) {\n",
    "    Console.WriteLine(ss);\n",
    "}\n",
    "\n",
    "private void Button_Click(object sender, RoutedEventArgs e) {\n",
    "    long hit = 0;\n",
    "    for(long f = 0; f <= N; f++) {\n",
    "        // true == 選び直しあり\n",
    "        if (fnc(MODE) == 1) hit++;\n",
    "    }\n",
    "    msg(hit.ToString());\n",
    "}\n",
    "*/\n"
   ]
  }
 ],
 "metadata": {
  "language_info": {
   "name": "csharp"
  }
 },
 "nbformat": 4,
 "nbformat_minor": 2
}
