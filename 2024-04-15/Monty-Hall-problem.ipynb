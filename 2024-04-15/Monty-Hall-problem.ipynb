{
 "cells": [
  {
   "cell_type": "markdown",
   "metadata": {},
   "source": [
    "## Paradox"
   ]
  },
  {
   "cell_type": "markdown",
   "metadata": {},
   "source": [
    "Monty Hall problem"
   ]
  },
  {
   "cell_type": "code",
   "execution_count": 11,
   "metadata": {
    "dotnet_interactive": {
     "language": "csharp"
    },
    "polyglot_notebook": {
     "kernelName": "csharp"
    },
    "vscode": {
     "languageId": "polyglot-notebook"
    }
   },
   "outputs": [
    {
     "name": "stdout",
     "output_type": "stream",
     "text": [
      "Result: 3384/10000\n"
     ]
    }
   ],
   "source": [
    "// Adviced and no change\n",
    "const int N = 10000;\n",
    "int win;\n",
    "Random rand = new();\n",
    "\n",
    "for (int i = 0; i < N; i++)\n",
    "{\n",
    "    // first setting\n",
    "    int istrue = rand.Next(3);// answer\n",
    "    int select = rand.Next(3);// users selection\n",
    "\n",
    "    bool[] array = new bool[3];// [0, 1, 2]\n",
    "    Array.Fill(array, false);// [false, false, false]\n",
    "    array[istrue] = true;// example: [false, true, false]\n",
    "\n",
    "    if (array[select] == true)\n",
    "        win++;\n",
    "}\n",
    "\n",
    "// return\n",
    "Console.WriteLine(\"Result: \" + win + \"/\" + N);\n"
   ]
  },
  {
   "cell_type": "code",
   "execution_count": 19,
   "metadata": {
    "vscode": {
     "languageId": "polyglot-notebook"
    }
   },
   "outputs": [
    {
     "name": "stdout",
     "output_type": "stream",
     "text": [
      "Result: 6700/10000\n"
     ]
    },
    {
     "data": {
      "text/html": [
       "<div class=\"dni-plaintext\"><pre>&lt;null&gt;</pre></div><style>\r\n",
       ".dni-code-hint {\r\n",
       "    font-style: italic;\r\n",
       "    overflow: hidden;\r\n",
       "    white-space: nowrap;\r\n",
       "}\r\n",
       ".dni-treeview {\r\n",
       "    white-space: nowrap;\r\n",
       "}\r\n",
       ".dni-treeview td {\r\n",
       "    vertical-align: top;\r\n",
       "    text-align: start;\r\n",
       "}\r\n",
       "details.dni-treeview {\r\n",
       "    padding-left: 1em;\r\n",
       "}\r\n",
       "table td {\r\n",
       "    text-align: start;\r\n",
       "}\r\n",
       "table tr { \r\n",
       "    vertical-align: top; \r\n",
       "    margin: 0em 0px;\r\n",
       "}\r\n",
       "table tr td pre \r\n",
       "{ \r\n",
       "    vertical-align: top !important; \r\n",
       "    margin: 0em 0px !important;\r\n",
       "} \r\n",
       "table th {\r\n",
       "    text-align: start;\r\n",
       "}\r\n",
       "</style>"
      ]
     },
     "metadata": {},
     "output_type": "display_data"
    }
   ],
   "source": [
    "// Adviced and no change\n",
    "const int N = 10000;\n",
    "int win;\n",
    "Random rand = new();\n",
    "\n",
    "for (int i = 0; i < N; i++)\n",
    "{\n",
    "    // first setting\n",
    "    int istrue = rand.Next(3);// answer\n",
    "    int select = rand.Next(3);// users selection\n",
    "    int manager = 0;// manager selection\n",
    "\n",
    "    bool[] array = new bool[3];// [0, 1, 2]\n",
    "    Array.Fill(array, false);// [false, false, false]\n",
    "    array[istrue] = true;// example: [false, true, false]\n",
    "\n",
    "    if (reselect() == 1)\n",
    "        win++;\n",
    "\n",
    "    int reselect()\n",
    "    {\n",
    "        // reselect\n",
    "        if (select==0) {\n",
    "            // manager select false\n",
    "            if (array[1] == true) manager=2;\n",
    "            if (array[2] == true) manager=1;\n",
    "\n",
    "            if (manager == 2) {\n",
    "                if(array[1] == true) return 1;\n",
    "                else return 0;\n",
    "            }\n",
    "            if (manager == 1) {\n",
    "                if(array[2] == true) return 1;\n",
    "                else return 0;\n",
    "            }\n",
    "        }\n",
    "\n",
    "        if (select==1) {\n",
    "            if (array[0] == true) manager=2;\n",
    "            if (array[2] == true) manager=0;\n",
    "\n",
    "            if (manager == 2) {\n",
    "                if(array[0] == true) return 1;\n",
    "                else return 0;\n",
    "            }\n",
    "            if (manager == 0) {\n",
    "                if(array[2] == true) return 1;\n",
    "                else return 0;\n",
    "            }\n",
    "        }\n",
    "\n",
    "        if (select==2) {\n",
    "            if (array[0] == true) manager=1;\n",
    "            if (array[1] == true) manager=0;\n",
    "\n",
    "            if(manager == 0) {\n",
    "                if(array[1] == true) return 1;\n",
    "                else return 0;\n",
    "            }\n",
    "            if(manager == 1) {\n",
    "                if(array[0] == true) return 1;\n",
    "                else return 0;\n",
    "            }\n",
    "        }\n",
    "        return 2;\n",
    "    }\n",
    "}\n",
    "\n",
    "// return\n",
    "Console.WriteLine(\"Result: \" + win + \"/\" + N);\n"
   ]
  }
 ],
 "metadata": {
  "language_info": {
   "name": "csharp"
  }
 },
 "nbformat": 4,
 "nbformat_minor": 2
}
