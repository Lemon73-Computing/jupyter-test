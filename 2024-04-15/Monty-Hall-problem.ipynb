{
 "cells": [
  {
   "cell_type": "markdown",
   "metadata": {},
   "source": [
    "## Paradox"
   ]
  },
  {
   "cell_type": "markdown",
   "metadata": {},
   "source": [
    "Monty Hall problem"
   ]
  },
  {
   "cell_type": "code",
   "execution_count": 1,
   "metadata": {
    "dotnet_interactive": {
     "language": "csharp"
    },
    "polyglot_notebook": {
     "kernelName": "csharp"
    },
    "vscode": {
     "languageId": "polyglot-notebook"
    }
   },
   "outputs": [
    {
     "name": "stdout",
     "output_type": "stream",
     "text": [
      "Result: 3362/10000\n"
     ]
    }
   ],
   "source": [
    "// No advice\n",
    "int attempts = 10000;\n",
    "int win;\n",
    "Random rand = new();\n",
    "\n",
    "for (int i = 0; i < attempts; i++)\n",
    "{\n",
    "    // first setting\n",
    "    bool[] array = new bool[3];\n",
    "    Array.Fill(array, false);\n",
    "    array[rand.Next(3)] = true;\n",
    "    int select = rand.Next(3);// users selection\n",
    "\n",
    "    if (array[select] == true)\n",
    "        win++;\n",
    "}\n",
    "\n",
    "// return\n",
    "Console.WriteLine(\"Result: \" + win + \"/\" + attempts);\n"
   ]
  },
  {
   "cell_type": "code",
   "execution_count": 5,
   "metadata": {
    "dotnet_interactive": {
     "language": "csharp"
    },
    "polyglot_notebook": {
     "kernelName": "csharp"
    },
    "vscode": {
     "languageId": "polyglot-notebook"
    }
   },
   "outputs": [
    {
     "name": "stdout",
     "output_type": "stream",
     "text": [
      "Result: 3278/10000\n"
     ]
    }
   ],
   "source": [
    "// Adviced and no change\n",
    "int attempts = 10000;\n",
    "int win;\n",
    "Random rand = new();\n",
    "\n",
    "for (int i = 0; i < attempts; i++)\n",
    "{\n",
    "    // first setting\n",
    "    bool[] array = new bool[3];\n",
    "    int istrue = rand.Next(3);// answer\n",
    "    int select = rand.Next(3);// users selection\n",
    "\n",
    "    Array.Fill(array, false);\n",
    "    array[istrue] = true;\n",
    "\n",
    "    int exception;\n",
    "    for (int j = 0; j < 3; j++)\n",
    "    {\n",
    "        if (j != istrue && j != select)\n",
    "            exception = j;\n",
    "    }\n",
    "    // deleate array[j]\n",
    "\n",
    "    // No change\n",
    "\n",
    "    if (array[select] == true)\n",
    "        win++;\n",
    "}\n",
    "\n",
    "// return\n",
    "Console.WriteLine(\"Result: \" + win + \"/\" + attempts);\n"
   ]
  },
  {
   "cell_type": "code",
   "execution_count": 6,
   "metadata": {
    "vscode": {
     "languageId": "polyglot-notebook"
    }
   },
   "outputs": [
    {
     "ename": "Error",
     "evalue": "(29,37): error CS0103: 現在のコンテキストに 's' という名前は存在しません\n(30,26): error CS0165: 未割り当てのローカル変数 'exception' が使用されました",
     "output_type": "error",
     "traceback": [
      "(29,37): error CS0103: 現在のコンテキストに 's' という名前は存在しません\n",
      "(30,26): error CS0165: 未割り当てのローカル変数 'exception' が使用されました"
     ]
    }
   ],
   "source": [
    "// Adviced and changed\n",
    "int attempts = 10000;\n",
    "int win;\n",
    "Random rand = new();\n",
    "\n",
    "for (int i = 0; i < attempts; i++)\n",
    "{\n",
    "    // first setting\n",
    "    bool[] array = new bool[3];\n",
    "    int istrue = rand.Next(3);// answer\n",
    "    int select = rand.Next(3);// users selection\n",
    "\n",
    "    Array.Fill(array, false);\n",
    "    array[istrue] = true;\n",
    "\n",
    "    int exception = 0;\n",
    "    for (int j = 0; j < 3; j++)\n",
    "    {\n",
    "        if (j != istrue && j != select)\n",
    "            exception = j;\n",
    "    }\n",
    "    // deleate array[j]\n",
    "\n",
    "    // changing\n",
    "    if (istrue == select)\n",
    "    {\n",
    "        for (int k = 0; k < 3; k++)\n",
    "        {\n",
    "            if (k != select && k != exception)\n",
    "                istrue = exception;\n",
    "        }\n",
    "    }\n",
    "    else if (istrue != select)\n",
    "        istrue = select;\n",
    "\n",
    "    if (array[select] == true)\n",
    "        win++;\n",
    "}\n",
    "\n",
    "// return\n",
    "Console.WriteLine(\"Result: \" + win + \"/\" + attempts);\n"
   ]
  }
 ],
 "metadata": {
  "language_info": {
   "name": "csharp"
  }
 },
 "nbformat": 4,
 "nbformat_minor": 2
}
