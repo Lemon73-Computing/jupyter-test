{
 "cells": [
  {
   "cell_type": "markdown",
   "metadata": {},
   "source": [
    "# Sky Colors\n",
    "NEO Project"
   ]
  },
  {
   "cell_type": "markdown",
   "metadata": {},
   "source": [
    "## Install Nuget package\n",
    "To show HTML"
   ]
  },
  {
   "cell_type": "code",
   "execution_count": 1,
   "metadata": {
    "dotnet_interactive": {
     "language": "csharp"
    },
    "polyglot_notebook": {
     "kernelName": "csharp"
    },
    "vscode": {
     "languageId": "polyglot-notebook"
    }
   },
   "outputs": [
    {
     "data": {
      "text/html": [
       "<div><div></div><div></div><div><strong>Installed Packages</strong><ul><li><span>Microsoft.AspNetCore.Html.Abstractions, 2.2.0</span></li></ul></div></div>"
      ]
     },
     "metadata": {},
     "output_type": "display_data"
    }
   ],
   "source": [
    "#r \"nuget:Microsoft.AspNetCore.Html.Abstractions,2.2.0\""
   ]
  },
  {
   "cell_type": "code",
   "execution_count": 21,
   "metadata": {
    "dotnet_interactive": {
     "language": "csharp"
    },
    "polyglot_notebook": {
     "kernelName": "csharp"
    },
    "vscode": {
     "languageId": "polyglot-notebook"
    }
   },
   "outputs": [
    {
     "name": "stdout",
     "output_type": "stream",
     "text": [
      "rgb(111, 250, 242)\n"
     ]
    },
    {
     "data": {
      "text/html": [
       "<svg height='100' width='100'>\n",
       "                            <circle cx='50' cy='50' r='40' fill='rgb(111, 250, 242)' />\n",
       "                          </svg>"
      ]
     },
     "metadata": {},
     "output_type": "display_data"
    }
   ],
   "source": [
    "using Microsoft.AspNetCore.Html;\n",
    "\n",
    "// Calculate random color\n",
    "Random rand = new();\n",
    "string r = rand.Next(0, 256).ToString();\n",
    "string g = rand.Next(0, 256).ToString();\n",
    "string b = rand.Next(0, 256).ToString();\n",
    "\n",
    "string rgb = $\"rgb({r}, {g}, {b})\";\n",
    "Console.WriteLine(rgb);\n",
    "\n",
    "public IHtmlContent DisplaySvg()\n",
    "{\n",
    "    // SVG\n",
    "    string svgContent = @\"<svg height='100' width='100'>\n",
    "                            <circle cx='50' cy='50' r='40' fill='\" + rgb + @\"' />\n",
    "                          </svg>\";\n",
    "\n",
    "    // To show SVG as HTML\n",
    "    return new HtmlString(svgContent);\n",
    "}\n",
    "\n",
    "// Show SVG\n",
    "DisplaySvg()"
   ]
  }
 ],
 "metadata": {
  "kernelspec": {
   "display_name": ".NET (C#)",
   "language": "C#",
   "name": ".net-csharp"
  },
  "language_info": {
   "name": "csharp"
  },
  "polyglot_notebook": {
   "kernelInfo": {
    "defaultKernelName": "csharp",
    "items": [
     {
      "aliases": [],
      "name": "csharp"
     }
    ]
   }
  }
 },
 "nbformat": 4,
 "nbformat_minor": 2
}
