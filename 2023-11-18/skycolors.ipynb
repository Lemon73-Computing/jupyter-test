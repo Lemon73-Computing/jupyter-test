{
 "cells": [
  {
   "cell_type": "markdown",
   "metadata": {},
   "source": [
    "# Sky Colors\n",
    "NEO Project"
   ]
  },
  {
   "cell_type": "markdown",
   "metadata": {},
   "source": [
    "## Install Nuget package\n",
    "To show HTML"
   ]
  },
  {
   "cell_type": "code",
   "execution_count": null,
   "metadata": {
    "dotnet_interactive": {
     "language": "csharp"
    },
    "polyglot_notebook": {
     "kernelName": "csharp"
    },
    "vscode": {
     "languageId": "polyglot-notebook"
    }
   },
   "outputs": [],
   "source": [
    "#r \"nuget:Microsoft.AspNetCore.Html.Abstractions,2.2.0\"\n",
    "using Microsoft.AspNetCore.Html;"
   ]
  },
  {
   "cell_type": "code",
   "execution_count": 74,
   "metadata": {
    "dotnet_interactive": {
     "language": "csharp"
    },
    "polyglot_notebook": {
     "kernelName": "csharp"
    },
    "vscode": {
     "languageId": "polyglot-notebook"
    }
   },
   "outputs": [
    {
     "name": "stdout",
     "output_type": "stream",
     "text": [
      "rgb(83, 229, 217)\r\n"
     ]
    },
    {
     "data": {
      "text/html": [
       "<svg height='100' width='100'>\r\n",
       "                            <circle cx='50' cy='50' r='40' fill='rgb(83, 229, 217)' />\r\n",
       "                          </svg>"
      ]
     },
     "metadata": {},
     "output_type": "display_data"
    }
   ],
   "source": [
    "// Calculate random color\n",
    "Random rand = new();\n",
    "int r = 0, g = 0, b = 0;\n",
    "r = rand.Next(0, 256);\n",
    "g = rand.Next(0, 256);\n",
    "b = rand.Next(0, 256);\n",
    "\n",
    "string rgb = \"rgb(\" + r.ToString() + \", \" + g.ToString() + \", \" + b.ToString() + \")\";\n",
    "Console.WriteLine(rgb);\n",
    "\n",
    "public IHtmlContent DisplaySvg()\n",
    "{\n",
    "    // SVGの内容を定義\n",
    "    string svgContent = @\"<svg height='100' width='100'>\n",
    "                            <circle cx='50' cy='50' r='40' fill='\" + rgb + @\"' />\n",
    "                          </svg>\";\n",
    "\n",
    "    // HTMLとして表示\n",
    "    return new HtmlString(svgContent);\n",
    "}\n",
    "\n",
    "// メソッドを呼び出してSVGを表示\n",
    "DisplaySvg()"
   ]
  }
 ],
 "metadata": {
  "language_info": {
   "name": "csharp"
  }
 },
 "nbformat": 4,
 "nbformat_minor": 2
}
